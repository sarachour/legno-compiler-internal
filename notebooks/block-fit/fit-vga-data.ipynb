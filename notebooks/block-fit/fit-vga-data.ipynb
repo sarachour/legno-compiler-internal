{
 "cells": [
  {
   "cell_type": "code",
   "execution_count": 1,
   "metadata": {},
   "outputs": [
    {
     "name": "stderr",
     "output_type": "stream",
     "text": [
      "/usr/local/lib/python2.7/site-packages/IPython/html.py:14: ShimWarning: The `IPython.html` package has been deprecated since IPython 4.0. You should import from `notebook` instead. `IPython.html.widgets` has moved to `ipywidgets`.\n",
      "  \"`IPython.html.widgets` has moved to `ipywidgets`.\", ShimWarning)\n"
     ]
    }
   ],
   "source": [
    "import numpy as np; np.random.seed(0)\n",
    "import seaborn as sns; sns.set()\n",
    "import matplotlib.pyplot as plt\n",
    "from sklearn.linear_model import LinearRegression\n",
    "import scipy"
   ]
  },
  {
   "cell_type": "code",
   "execution_count": 2,
   "metadata": {},
   "outputs": [],
   "source": [
    "def get(data,index):\n",
    "    l = []\n",
    "    for d in data:\n",
    "        l.append(d[index])\n",
    "    return l\n",
    "\n",
    "def normalize(vs):\n",
    "    minb = min(B)\n",
    "    maxb = max(B)\n",
    "    l = []\n",
    "    for v in vs:\n",
    "        l.append((v-minb)/(maxb-minb))\n",
    "    return np.array(l)\n",
    "import json\n",
    "\n",
    "def load(filepath):\n",
    "    with open(filepath,'r') as fh:\n",
    "        obj = json.loads(fh.read())\n",
    "    dataset = {}\n",
    "    for idx,cat in enumerate(obj['groups']['values']):\n",
    "        key = str(cat)\n",
    "        if not key in dataset:\n",
    "            dataset[key] = {\"X\":[],\"D\":[],\"B\":[],\"N\":[]}\n",
    "    \n",
    "        pars = dict(zip(obj['params']['fields'], \\\n",
    "                           obj['params']['values'][idx]))\n",
    "        expect = dict(zip(obj['expected']['fields'], \\\n",
    "                        obj['expected']['values'][idx]))\n",
    "        meas = dict(zip(obj['observed']['fields'], \\\n",
    "                        obj['observed']['values'][idx]))\n",
    "        \n",
    "        dataset[key]['X'].append(list(pars.values()))\n",
    "        dataset[key]['D'].append(expect['output'])\n",
    "        dataset[key]['B'].append(meas['bias'])\n",
    "        dataset[key]['N'].append(meas['noise'])\n",
    "    return dataset\n"
   ]
  },
  {
   "cell_type": "code",
   "execution_count": 101,
   "metadata": {},
   "outputs": [
    {
     "name": "stdout",
     "output_type": "stream",
     "text": [
      "[u'pos', u'pos', u'pos', u'high', u'medium', u'high', True, u'out0']\n",
      "[u'pos', u'pos', u'pos', u'high', u'medium', u'medium', True, u'out0']\n",
      "=======\n",
      "[u'pos', u'pos', u'pos', u'high', u'medium', u'high', True, u'out0']\n",
      "81\n"
     ]
    }
   ],
   "source": [
    "filepath = \"../../outputs/datasets/mult_0_3_0_1.json\"\n",
    "dataset = load(filepath)\n",
    "keys = list(dataset.keys())\n",
    "for k in keys:\n",
    "    print(k)\n",
    "print(\"=======\")\n",
    "k = keys[0]\n",
    "print(k)\n",
    "D = dataset[k]['D']\n",
    "X = dataset[k]['X']\n",
    "B = dataset[k]['B']\n",
    "n = len(B)\n",
    "print(n)"
   ]
  },
  {
   "cell_type": "code",
   "execution_count": 102,
   "metadata": {},
   "outputs": [
    {
     "name": "stdout",
     "output_type": "stream",
     "text": [
      "targ: [-9.921875,10.000000]\n",
      "bias: [-1.523027,1.593539]\n",
      "meas: [-8.386279,8.476973]\n"
     ]
    }
   ],
   "source": [
    "targ = np.array(list(map(lambda i: D[i], range(n))))\n",
    "bias = np.array(B)\n",
    "gain = np.array(list(map(lambda i: X[i][0], range(n))))\n",
    "meas = np.array(list(map(lambda i: B[i]+D[i], range(n))))\n",
    "print(\"targ: [%f,%f]\" % (min(targ),max(targ)))\n",
    "print(\"bias: [%f,%f]\" % (min(bias),max(bias)))\n",
    "print(\"meas: [%f,%f]\" % (min(meas),max(meas)))"
   ]
  },
  {
   "cell_type": "code",
   "execution_count": 103,
   "metadata": {},
   "outputs": [],
   "source": [
    "def nonlin_fit(xdata,a,b):\n",
    "    x = xdata\n",
    "    result = (a)*(x) + b\n",
    "    return result"
   ]
  },
  {
   "cell_type": "code",
   "execution_count": 104,
   "metadata": {},
   "outputs": [
    {
     "name": "stdout",
     "output_type": "stream",
     "text": [
      "(0.82371371056836395, 0.017542945632045281)\n"
     ]
    }
   ],
   "source": [
    "(a,b),corrs = scipy.optimize.curve_fit(nonlin_fit, targ, meas)\n",
    "print(a,b)"
   ]
  },
  {
   "cell_type": "code",
   "execution_count": 105,
   "metadata": {},
   "outputs": [],
   "source": [
    "def predict(v,g):\n",
    "    return a*v + b"
   ]
  },
  {
   "cell_type": "code",
   "execution_count": 106,
   "metadata": {},
   "outputs": [],
   "source": [
    "pred = list(map(lambda i: predict(targ[i],gain[i]), range(n)))"
   ]
  },
  {
   "cell_type": "code",
   "execution_count": 107,
   "metadata": {},
   "outputs": [
    {
     "data": {
      "text/plain": [
       "<matplotlib.legend.Legend at 0x11bbca9d0>"
      ]
     },
     "execution_count": 107,
     "metadata": {},
     "output_type": "execute_result"
    },
    {
     "data": {
      "image/png": "[encoded data removed]",
      "text/plain": [
       "<matplotlib.figure.Figure at 0x11af3df50>"
      ]
     },
     "metadata": {
      "needs_background": "light"
     },
     "output_type": "display_data"
    }
   ],
   "source": [
    "plt.scatter(targ,pred-targ,label='pred bias')\n",
    "plt.scatter(targ,bias,label='obs bias')\n",
    "plt.title(\"bias fit\")\n",
    "plt.legend()"
   ]
  },
  {
   "cell_type": "code",
   "execution_count": 108,
   "metadata": {},
   "outputs": [
    {
     "data": {
      "text/plain": [
       "<matplotlib.legend.Legend at 0x11bd09790>"
      ]
     },
     "execution_count": 108,
     "metadata": {},
     "output_type": "execute_result"
    },
    {
     "data": {
      "image/png": "[encoded data removed]",
      "text/plain": [
       "<matplotlib.figure.Figure at 0x11a866250>"
      ]
     },
     "metadata": {
      "needs_background": "light"
     },
     "output_type": "display_data"
    }
   ],
   "source": [
    "plt.scatter(targ,pred,label='pred out')\n",
    "plt.scatter(targ,targ,label='ideal out')\n",
    "plt.scatter(targ,meas,label='obs out')\n",
    "plt.title(\"obs fit\")\n",
    "plt.legend()"
   ]
  },
  {
   "cell_type": "code",
   "execution_count": 109,
   "metadata": {},
   "outputs": [
    {
     "data": {
      "text/plain": [
       "<matplotlib.collections.PathCollection at 0x11be49b10>"
      ]
     },
     "execution_count": 109,
     "metadata": {},
     "output_type": "execute_result"
    },
    {
     "data": {
      "image/png": "[encoded data removed]",
      "text/plain": [
       "<matplotlib.figure.Figure at 0x11bc0b0d0>"
      ]
     },
     "metadata": {
      "needs_background": "light"
     },
     "output_type": "display_data"
    }
   ],
   "source": [
    "corr_bias = bias-(pred-targ)\n",
    "plt.scatter(targ,corr_bias)"
   ]
  },
  {
   "cell_type": "code",
   "execution_count": null,
   "metadata": {},
   "outputs": [],
   "source": []
  },
  {
   "cell_type": "code",
   "execution_count": null,
   "metadata": {},
   "outputs": [],
   "source": []
  },
  {
   "cell_type": "code",
   "execution_count": null,
   "metadata": {},
   "outputs": [],
   "source": []
  }
 ],
 "metadata": {
  "kernelspec": {
   "display_name": "Python 3",
   "language": "python",
   "name": "python3"
  },
  "language_info": {
   "codemirror_mode": {
    "name": "ipython",
    "version": 2
   },
   "file_extension": ".py",
   "mimetype": "text/x-python",
   "name": "python",
   "nbconvert_exporter": "python",
   "pygments_lexer": "ipython2",
   "version": "2.7.15"
  }
 },
 "nbformat": 4,
 "nbformat_minor": 2
}
