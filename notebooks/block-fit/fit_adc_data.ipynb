{
 "cells": [
  {
   "cell_type": "code",
   "execution_count": 1,
   "metadata": {},
   "outputs": [
    {
     "name": "stderr",
     "output_type": "stream",
     "text": [
      "/usr/local/lib/python2.7/site-packages/IPython/html.py:14: ShimWarning: The `IPython.html` package has been deprecated since IPython 4.0. You should import from `notebook` instead. `IPython.html.widgets` has moved to `ipywidgets`.\n",
      "  \"`IPython.html.widgets` has moved to `ipywidgets`.\", ShimWarning)\n"
     ]
    }
   ],
   "source": [
    "import numpy as np; np.random.seed(0)\n",
    "import seaborn as sns; sns.set()\n",
    "import matplotlib.pyplot as plt\n",
    "from sklearn.linear_model import LinearRegression\n",
    "import scipy"
   ]
  },
  {
   "cell_type": "code",
   "execution_count": 2,
   "metadata": {},
   "outputs": [],
   "source": [
    "def get(data,index):\n",
    "    l = []\n",
    "    for d in data:\n",
    "        l.append(d[index])\n",
    "    return l\n",
    "\n",
    "def normalize(vs):\n",
    "    minb = min(B)\n",
    "    maxb = max(B)\n",
    "    l = []\n",
    "    for v in vs:\n",
    "        l.append((v-minb)/(maxb-minb))\n",
    "    return np.array(l)\n",
    "import json\n",
    "\n",
    "def load(filepath):\n",
    "    with open(filepath,'r') as fh:\n",
    "        obj = json.loads(fh.read())\n",
    "    dataset = {}\n",
    "    for idx,cat in enumerate(obj['groups']['values']):\n",
    "        key = str(cat)\n",
    "        if not key in dataset:\n",
    "            dataset[key] = {\"X\":[],\"D\":[],\"B\":[],\"N\":[]}\n",
    "    \n",
    "        pars = dict(zip(obj['params']['fields'], \\\n",
    "                           obj['params']['values'][idx]))\n",
    "        expect = dict(zip(obj['expected']['fields'], \\\n",
    "                        obj['expected']['values'][idx]))\n",
    "        meas = dict(zip(obj['observed']['fields'], \\\n",
    "                        obj['observed']['values'][idx]))\n",
    "        \n",
    "        dataset[key]['X'].append(list(pars.values()))\n",
    "        dataset[key]['D'].append(expect['output'])\n",
    "        dataset[key]['B'].append(meas['bias'])\n",
    "        dataset[key]['N'].append(meas['noise'])\n",
    "    return dataset\n"
   ]
  },
  {
   "cell_type": "code",
   "execution_count": 4,
   "metadata": {},
   "outputs": [],
   "source": [
    "filepath = \"../../outputs/datasets/adc_0_3_2_0.json\"\n",
    "dataset = load(filepath)\n",
    "k = list(dataset.keys())[0]\n",
    "D = dataset[k]['D']\n",
    "B = dataset[k]['B']\n",
    "n = len(B)"
   ]
  },
  {
   "cell_type": "code",
   "execution_count": 8,
   "metadata": {},
   "outputs": [
    {
     "name": "stdout",
     "output_type": "stream",
     "text": [
      "targ: [0.000000,242.250000]\n",
      "bias: [-17.250000,32.000000]\n",
      "meas: [32.000000,225.000000]\n"
     ]
    }
   ],
   "source": [
    "targ = np.array(list(map(lambda i: D[i], range(n))))\n",
    "bias = np.array(B)\n",
    "meas = np.array(list(map(lambda i: B[i]+D[i], range(n))))\n",
    "print(\"targ: [%f,%f]\" % (min(targ),max(targ)))\n",
    "print(\"bias: [%f,%f]\" % (min(bias),max(bias)))\n",
    "print(\"meas: [%f,%f]\" % (min(meas),max(meas)))"
   ]
  },
  {
   "cell_type": "code",
   "execution_count": 9,
   "metadata": {},
   "outputs": [],
   "source": [
    "def nonlin_fit(xdata,a,b):\n",
    "    x = xdata\n",
    "    result = (a)*(x) + b\n",
    "    return result"
   ]
  },
  {
   "cell_type": "code",
   "execution_count": 11,
   "metadata": {},
   "outputs": [
    {
     "name": "stdout",
     "output_type": "stream",
     "text": [
      "(0.77393483971134147, 34.797142749517349)\n"
     ]
    }
   ],
   "source": [
    "(a,b),corrs = scipy.optimize.curve_fit(nonlin_fit, targ, meas)\n",
    "print(a,b)"
   ]
  },
  {
   "cell_type": "code",
   "execution_count": 12,
   "metadata": {},
   "outputs": [],
   "source": [
    "def predict(v):\n",
    "    return a*v + b"
   ]
  },
  {
   "cell_type": "code",
   "execution_count": 13,
   "metadata": {},
   "outputs": [],
   "source": [
    "pred = list(map(lambda i: predict(targ[i]) - targ[i], range(n)))"
   ]
  },
  {
   "cell_type": "code",
   "execution_count": 16,
   "metadata": {},
   "outputs": [
    {
     "data": {
      "text/plain": [
       "<matplotlib.legend.Legend at 0x11d160250>"
      ]
     },
     "execution_count": 16,
     "metadata": {},
     "output_type": "execute_result"
    },
    {
     "data": {
      "image/png": "[encoded data removed]",
      "text/plain": [
       "<matplotlib.figure.Figure at 0x11ce39cd0>"
      ]
     },
     "metadata": {
      "needs_background": "light"
     },
     "output_type": "display_data"
    }
   ],
   "source": [
    "plt.plot(pred,label='pred bias')\n",
    "plt.plot(bias,label='obs bias')\n",
    "plt.title(\"bias fit\")\n",
    "plt.legend()"
   ]
  },
  {
   "cell_type": "code",
   "execution_count": 15,
   "metadata": {},
   "outputs": [
    {
     "data": {
      "text/plain": [
       "<matplotlib.legend.Legend at 0x11cff3b10>"
      ]
     },
     "execution_count": 15,
     "metadata": {},
     "output_type": "execute_result"
    },
    {
     "data": {
      "image/png": "[encoded data removed]",
      "text/plain": [
       "<matplotlib.figure.Figure at 0x11ce9b4d0>"
      ]
     },
     "metadata": {
      "needs_background": "light"
     },
     "output_type": "display_data"
    }
   ],
   "source": [
    "plt.plot(pred+targ,label='pred out')\n",
    "plt.plot(targ,label='ideal out')\n",
    "plt.plot(meas,label='obs out')\n",
    "plt.title(\"obs fit\")\n",
    "plt.legend()"
   ]
  },
  {
   "cell_type": "code",
   "execution_count": null,
   "metadata": {},
   "outputs": [],
   "source": []
  }
 ],
 "metadata": {
  "kernelspec": {
   "display_name": "Python 3",
   "language": "python",
   "name": "python3"
  },
  "language_info": {
   "codemirror_mode": {
    "name": "ipython",
    "version": 2
   },
   "file_extension": ".py",
   "mimetype": "text/x-python",
   "name": "python",
   "nbconvert_exporter": "python",
   "pygments_lexer": "ipython2",
   "version": "2.7.15"
  }
 },
 "nbformat": 4,
 "nbformat_minor": 2
}
