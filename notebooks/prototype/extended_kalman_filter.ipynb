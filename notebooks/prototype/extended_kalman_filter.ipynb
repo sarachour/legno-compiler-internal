{
 "cells": [
  {
   "cell_type": "code",
   "execution_count": 2,
   "metadata": {},
   "outputs": [],
   "source": [
    "'''\n",
    "EXTENDED KALMAN\n",
    "\n",
    "# MODEL\n",
    "x' = f(x,u) + w_1\n",
    "z = h(x) +  w_2\n",
    "\n",
    "initialization for model\n",
    "\n",
    "x(0) = 0 # initial guess for mean\n",
    "P(0) = 0 # initial guess for variance\n",
    "\n",
    "predict update.\n",
    "\n",
    "x = f(x,u) + K*(w_1 - h(x))\n",
    "P' = f_x*P + P*f_x - K*h_x*P + Q\n",
    "\n",
    "where f_x is df/dx\n",
    "and h_x is dh/dx\n",
    "''';\n",
    "\n"
   ]
  },
  {
   "cell_type": "code",
   "execution_count": 4,
   "metadata": {},
   "outputs": [],
   "source": [
    "'''\n",
    "Kalman–Bucy filter (continuous time Kalman)\n",
    "\n",
    "# MODEL \n",
    "x' = F(t)*x(t) + B(t)*u(t) + w_1\n",
    "z = H(t)*x(t) + w_t\n",
    "\n",
    "# PREDICTOR\n",
    "x' = F*x + B*u + K*(z-H*x)\n",
    "P' = F*P + P*F + Q - K*R*K\n",
    "K = P*H*inv(R)\n",
    "\n",
    "Q = covariance of process noise (w_1)\n",
    "R = covariance of observation noise (w_2)\n",
    "F = state transition model\n",
    "H = observation model\n",
    "B = control input model\n",
    "\n",
    "''';"
   ]
  },
  {
   "cell_type": "code",
   "execution_count": 23,
   "metadata": {},
   "outputs": [],
   "source": [
    "import numpy as np\n",
    "from scipy.integrate import odeint\n",
    "import matplotlib.pyplot as plt"
   ]
  },
  {
   "cell_type": "code",
   "execution_count": 6,
   "metadata": {},
   "outputs": [],
   "source": [
    "'''\n",
    "1d Kalman bucy\n",
    "\n",
    "x' = a*x + b*u + w_1\n",
    "z = c*x + w_2\n",
    "\n",
    "# PREDICTOR\n",
    "\n",
    "x' = a*x + b*u + k*(z-c*x)\n",
    "p' = 2*a*p + q - k*k*r\n",
    "k = p*c*r\n",
    "''';"
   ]
  },
  {
   "cell_type": "code",
   "execution_count": 752,
   "metadata": {},
   "outputs": [],
   "source": [
    "def zero(time):\n",
    "    return 0.0\n",
    "\n",
    "def sin(time,ampl,freq,phase):\n",
    "    return ampl*np.sin(freq*time+phase)\n",
    "    \n",
    "def lin(time,scale,offset):\n",
    "    return scale*time+offset\n",
    "\n",
    "def noise(time,ampl):\n",
    "    return np.random.normal(0,ampl)"
   ]
  },
  {
   "cell_type": "code",
   "execution_count": 916,
   "metadata": {},
   "outputs": [],
   "source": [
    "# this is a backup\n",
    "params = {\n",
    "    'a': 1.0,\n",
    "    'b': 0.0,\n",
    "    'c': 2.0,\n",
    "    'r': 1.0,\n",
    "    'q': 0.0,\n",
    "    'tc': 10000.0,\n",
    "    'hwtc': 200000.0\n",
    "}\n",
    "# this is the differen\n",
    "params = {\n",
    "    'a': 2.0,\n",
    "    'b': 0.0,\n",
    "    'c': 2.0,\n",
    "    'r': 0.5,\n",
    "    'q': 0.0,\n",
    "    'tc': 10000.0,\n",
    "    'hwtc': 200000.0,\n",
    "    \"p0\": 1.0,\n",
    "    \"x0\": 1.0\n",
    "}"
   ]
  },
  {
   "cell_type": "code",
   "execution_count": 917,
   "metadata": {},
   "outputs": [
    {
     "name": "stdout",
     "output_type": "stream",
     "text": [
      "time-const: 0.050000\n"
     ]
    }
   ],
   "source": [
    "\n",
    "def getps(names):\n",
    "    vals = []\n",
    "    for name in names:\n",
    "        vals.append(float(params[name]))\n",
    "    return tuple(vals)\n",
    "\n",
    "def geti(vals,ind):\n",
    "    v = list(map(lambda v: v[ind], vals))\n",
    "    return np.array(v)\n",
    "\n",
    "tc,hwtc = getps(['tc','hwtc'])\n",
    "print(\"time-const: %f\" % (tc/hwtc))\n",
    "\n",
    "def kalman(vect,time,ufun,zfun):\n",
    "    a,b,h = getps(['a','b','c'])\n",
    "    r,q = getps(['r','q'])\n",
    "    tc1,tc2 = getps(['tc','tc'])\n",
    "    x = float(vect[0])\n",
    "    p = float(vect[1])\n",
    "    #u = ufun(time)\n",
    "    u = 0.0\n",
    "    z = float(zfun(time))\n",
    "    rinv = r**-1.0\n",
    "    k = p*h*rinv\n",
    "    dx = tc1*(a*x + b*u +k*z-k*h*x)\n",
    "    dp = tc2*(2.0*a*p + q -k*k*r)\n",
    "    return [dx,dp]\n",
    "\n",
    "\n",
    "    "
   ]
  },
  {
   "cell_type": "code",
   "execution_count": 918,
   "metadata": {},
   "outputs": [],
   "source": [
    "base_freq = 1000.0\n",
    "\n",
    "def fn(time):\n",
    "    sig= sin(time,3.0,1.0*base_freq,0.0) + sin(time,3.0,0.375*base_freq,0.52) \n",
    "    nz = sin(time,3.0,50.0*base_freq,1.1432)*lin(time*100,0.5,0)\n",
    "    return (sig+nz)/10.0"
   ]
  },
  {
   "cell_type": "code",
   "execution_count": 919,
   "metadata": {},
   "outputs": [],
   "source": [
    "\n",
    "x0,p0 = getps(['x0','p0'])\n",
    "times = np.arange(0,60/base_freq,1.0e-1/base_freq)\n",
    "z = list(map(lambda t: fn(t), times))\n",
    "ys = odeint(kalman, [x0,p0], times,args=(zero,fn))"
   ]
  },
  {
   "cell_type": "code",
   "execution_count": 920,
   "metadata": {},
   "outputs": [
    {
     "data": {
      "text/plain": [
       "<matplotlib.legend.Legend at 0x1877099e8>"
      ]
     },
     "execution_count": 920,
     "metadata": {},
     "output_type": "execute_result"
    },
    {
     "data": {
      "image/png": "[encoded data removed]",
      "text/plain": [
       "<Figure size 432x288 with 1 Axes>"
      ]
     },
     "metadata": {
      "needs_background": "light"
     },
     "output_type": "display_data"
    }
   ],
   "source": [
    "plt.plot(z,label=\"meas\")\n",
    "plt.plot(geti(ys,0),label=\"fit\")\n",
    "plt.plot(geti(ys,1),label=\"cov\")\n",
    "plt.legend()"
   ]
  },
  {
   "cell_type": "code",
   "execution_count": null,
   "metadata": {},
   "outputs": [],
   "source": []
  },
  {
   "cell_type": "code",
   "execution_count": null,
   "metadata": {},
   "outputs": [],
   "source": []
  }
 ],
 "metadata": {
  "kernelspec": {
   "display_name": "Python 3",
   "language": "python",
   "name": "python3"
  },
  "language_info": {
   "codemirror_mode": {
    "name": "ipython",
    "version": 3
   },
   "file_extension": ".py",
   "mimetype": "text/x-python",
   "name": "python",
   "nbconvert_exporter": "python",
   "pygments_lexer": "ipython3",
   "version": "3.7.2"
  }
 },
 "nbformat": 4,
 "nbformat_minor": 2
}
