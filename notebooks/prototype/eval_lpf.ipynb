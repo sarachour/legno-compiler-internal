{
 "cells": [
  {
   "cell_type": "code",
   "execution_count": 11,
   "metadata": {},
   "outputs": [],
   "source": [
    "import json\n",
    "import binascii\n",
    "import zlib"
   ]
  },
  {
   "cell_type": "code",
   "execution_count": 12,
   "metadata": {},
   "outputs": [],
   "source": [
    "def decompress_json(hexstr):\n",
    "    byte_obj = binascii.unhexlify(hexstr)\n",
    "    comp_obj = zlib.decompress(byte_obj)\n",
    "    obj = json.loads(str(comp_obj,'utf-8'))\n",
    "    return obj"
   ]
  },
  {
   "cell_type": "code",
   "execution_count": 16,
   "metadata": {},
   "outputs": [
    {
     "name": "stdout",
     "output_type": "stream",
     "text": [
      "dict_keys(['times', 'values', 'variable'])\n"
     ]
    }
   ],
   "source": [
    "filename=\"%s/outputs/legno/default/aud-lpf/out-waveform/aud-lpf_0_0_0_0_s0_slow_audenv_microphone_%dKhz.json\"\n",
    "basedir=\"/Users/sachour/Documents/git/research/legno-compiler\"\n",
    "infile = filename % (basedir,2)\n",
    "with open(infile,'r') as fh:\n",
    "    text = fh.read()\n",
    "    obj = decompress_json(text)\n",
    "    print(obj.keys())"
   ]
  },
  {
   "cell_type": "code",
   "execution_count": 17,
   "metadata": {},
   "outputs": [],
   "source": [
    "t = obj['times']\n",
    "v = obj['values']"
   ]
  },
  {
   "cell_type": "code",
   "execution_count": null,
   "metadata": {},
   "outputs": [],
   "source": []
  }
 ],
 "metadata": {
  "kernelspec": {
   "display_name": "Python 3",
   "language": "python",
   "name": "python3"
  },
  "language_info": {
   "codemirror_mode": {
    "name": "ipython",
    "version": 3
   },
   "file_extension": ".py",
   "mimetype": "text/x-python",
   "name": "python",
   "nbconvert_exporter": "python",
   "pygments_lexer": "ipython3",
   "version": "3.7.2"
  }
 },
 "nbformat": 4,
 "nbformat_minor": 2
}
