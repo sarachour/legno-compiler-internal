{
 "cells": [
  {
   "cell_type": "code",
   "execution_count": 1,
   "metadata": {},
   "outputs": [],
   "source": [
    "%%capture\n",
    "!git clone git@github.com:rtqichen/torchdiffeq.git"
   ]
  },
  {
   "cell_type": "code",
   "execution_count": 2,
   "metadata": {},
   "outputs": [
    {
     "name": "stdout",
     "output_type": "stream",
     "text": [
      "\u001b[33mDEPRECATION: Python 2.7 will reach the end of its life on January 1st, 2020. Please upgrade your Python as Python 2.7 won't be maintained after that date. A future version of pip will drop support for Python 2.7.\u001b[0m\n",
      "Obtaining file:///Users/sachour/Documents/git/research/legno-compiler/notebooks/prototype/torchdiffeq\n",
      "Requirement already satisfied: torch>=0.4.1 in /usr/local/lib/python2.7/site-packages (from torchdiffeq==0.0.1) (1.1.0)\n",
      "Requirement already satisfied: numpy in /usr/local/lib/python2.7/site-packages (from torch>=0.4.1->torchdiffeq==0.0.1) (1.12.1)\n",
      "Requirement already satisfied: future in /usr/local/lib/python2.7/site-packages (from torch>=0.4.1->torchdiffeq==0.0.1) (0.17.1)\n",
      "Installing collected packages: torchdiffeq\n",
      "  Found existing installation: torchdiffeq 0.0.1\n",
      "    Uninstalling torchdiffeq-0.0.1:\n",
      "      Successfully uninstalled torchdiffeq-0.0.1\n",
      "  Running setup.py develop for torchdiffeq\n",
      "Successfully installed torchdiffeq\n"
     ]
    }
   ],
   "source": [
    "!pip install -e torchdiffeq"
   ]
  },
  {
   "cell_type": "code",
   "execution_count": 3,
   "metadata": {},
   "outputs": [
    {
     "name": "stdout",
     "output_type": "stream",
     "text": [
      "sys.version_info(major=3, minor=7, micro=2, releaselevel='final', serial=0)\n"
     ]
    }
   ],
   "source": [
    "import sys\n",
    "print(sys.version_info)"
   ]
  },
  {
   "cell_type": "code",
   "execution_count": 4,
   "metadata": {},
   "outputs": [],
   "source": [
    "import os\n",
    "import argparse\n",
    "import time\n",
    "import numpy as np\n",
    "\n",
    "import torch\n",
    "import torch.nn as nn\n",
    "import torch.optim as optim\n",
    "import sys"
   ]
  },
  {
   "cell_type": "code",
   "execution_count": 5,
   "metadata": {},
   "outputs": [],
   "source": [
    "\n",
    "def makedirs(dirname):\n",
    "    if not os.path.exists(dirname):\n",
    "        os.makedirs(dirname)"
   ]
  },
  {
   "cell_type": "code",
   "execution_count": 6,
   "metadata": {},
   "outputs": [
    {
     "data": {
      "text/plain": [
       "<Figure size 1200x400 with 3 Axes>"
      ]
     },
     "metadata": {},
     "output_type": "display_data"
    }
   ],
   "source": [
    "viz = True\n",
    "if viz:\n",
    "    makedirs('png')\n",
    "    import matplotlib.pyplot as plt\n",
    "    fig = plt.figure(figsize=(12, 4), facecolor='white')\n",
    "    ax_traj = fig.add_subplot(131, frameon=False)\n",
    "    ax_phase = fig.add_subplot(132, frameon=False)\n",
    "    ax_vecfield = fig.add_subplot(133, frameon=False)\n",
    "    plt.show(block=False)"
   ]
  },
  {
   "cell_type": "code",
   "execution_count": 18,
   "metadata": {},
   "outputs": [],
   "source": [
    "def visualize(true_y, pred_y, odefunc, itr):\n",
    "\n",
    "    if viz:\n",
    "\n",
    "        ax_traj.cla()\n",
    "        ax_traj.set_title('Trajectories')\n",
    "        ax_traj.set_xlabel('t')\n",
    "        ax_traj.set_ylabel('x,y')\n",
    "        ax_traj.plot(t.numpy(), true_y.numpy()[:, 0, 0], \\\n",
    "                     t.numpy(), true_y.numpy()[:, 0, 1], 'g-', \\\n",
    "                     label='ground-truth')\n",
    "        ax_traj.plot(t.numpy(), pred_y.numpy()[:, 0, 0], '--',  \\\n",
    "                     t.numpy(), pred_y.numpy()[:, 0, 1], 'b--', \n",
    "                     label='prediction')\n",
    "        ax_traj.set_xlim(t.min(), t.max())\n",
    "        ax_traj.set_ylim(-2, 2)\n",
    "        ax_traj.legend()\n",
    "\n",
    "        ax_phase.cla()\n",
    "        ax_phase.set_title('Phase Portrait')\n",
    "        ax_phase.set_xlabel('x')\n",
    "        ax_phase.set_ylabel('y')\n",
    "        ax_phase.plot(true_y.numpy()[:, 0, 0], true_y.numpy()[:, 0, 1], 'g-')\n",
    "        ax_phase.plot(pred_y.numpy()[:, 0, 0], pred_y.numpy()[:, 0, 1], 'b--')\n",
    "        ax_phase.set_xlim(-2, 2)\n",
    "        ax_phase.set_ylim(-2, 2)\n",
    "\n",
    "        ax_vecfield.cla()\n",
    "        ax_vecfield.set_title('Learned Vector Field')\n",
    "        ax_vecfield.set_xlabel('x')\n",
    "        ax_vecfield.set_ylabel('y')\n",
    "\n",
    "        y, x = np.mgrid[-2:2:21j, -2:2:21j]\n",
    "        dydt = odefunc(0, torch.Tensor(np.stack([x, y], -1).reshape(21 * 21, 2))).cpu().detach().numpy()\n",
    "        mag = np.sqrt(dydt[:, 0]**2 + dydt[:, 1]**2).reshape(-1, 1)\n",
    "        dydt = (dydt / mag)\n",
    "        dydt = dydt.reshape(21, 21, 2)\n",
    "\n",
    "        ax_vecfield.streamplot(x, y, dydt[:, :, 0], dydt[:, :, 1], color=\"black\")\n",
    "        ax_vecfield.set_xlim(-2, 2)\n",
    "        ax_vecfield.set_ylim(-2, 2)\n",
    "\n",
    "        fig.tight_layout()\n",
    "        plt.savefig('png/{:03d}'.format(itr))\n",
    "        plt.draw()\n",
    "        plt.pause(0.001)"
   ]
  },
  {
   "cell_type": "code",
   "execution_count": 10,
   "metadata": {},
   "outputs": [],
   "source": [
    "adjoint = True\n",
    "data_size = 1000\n",
    "niters = 2000\n",
    "batch_time = 10\n",
    "batch_size = 20\n",
    "test_freq = 20"
   ]
  },
  {
   "cell_type": "code",
   "execution_count": 11,
   "metadata": {},
   "outputs": [],
   "source": [
    "if adjoint:\n",
    "    from torchdiffeq import odeint_adjoint as odeint\n",
    "else:\n",
    "    from torchdiffeq import odeint"
   ]
  },
  {
   "cell_type": "code",
   "execution_count": 12,
   "metadata": {},
   "outputs": [],
   "source": [
    "class Lambda(nn.Module):\n",
    "\n",
    "    def forward(self, t, y):\n",
    "        return torch.mm(y**3, true_A)\n",
    "\n",
    "class ODEFunc(nn.Module):\n",
    "\n",
    "    def __init__(self):\n",
    "        super(ODEFunc, self).__init__()\n",
    "\n",
    "        # the neural network we're learning\n",
    "        self.net = nn.Sequential(\n",
    "            nn.Linear(2, 50),\n",
    "            nn.Tanh(),\n",
    "            nn.Linear(50, 2),\n",
    "        )\n",
    "\n",
    "        for m in self.net.modules():\n",
    "            if isinstance(m, nn.Linear):\n",
    "                nn.init.normal_(m.weight, mean=0, std=0.1)\n",
    "                nn.init.constant_(m.bias, val=0)\n",
    "\n",
    "    def forward(self, t, y):\n",
    "        return self.net(y**3)"
   ]
  },
  {
   "cell_type": "code",
   "execution_count": 13,
   "metadata": {},
   "outputs": [],
   "source": [
    "def get_batch():\n",
    "    s = torch.from_numpy(np.random.choice(np.arange(data_size - batch_time, dtype=np.int64), \\\n",
    "                                          batch_size, \n",
    "                                          replace=False))\n",
    "    batch_y0 = true_y[s]  # (M, D)\n",
    "    batch_t = t[:batch_time]  # (T)\n",
    "    batch_y = torch.stack([true_y[s + i] for i in range(batch_time)], dim=0)  # (T, M, D)\n",
    "    return batch_y0, batch_t, batch_y\n",
    "\n"
   ]
  },
  {
   "cell_type": "code",
   "execution_count": 14,
   "metadata": {},
   "outputs": [],
   "source": [
    "device = torch.device('cuda:' + str(args.gpu) if torch.cuda.is_available() else 'cpu')\n",
    "# establish baseline truths\n",
    "true_y0 = torch.tensor([[2., 0.]])\n",
    "t = torch.linspace(0., 25., data_size)\n",
    "true_A = torch.tensor([[-0.1, 2.0], [-2.0, -0.1]])\n",
    "with torch.no_grad():\n",
    "    true_y = odeint(Lambda(), true_y0, t, method='dopri5')\n",
    "\n"
   ]
  },
  {
   "cell_type": "code",
   "execution_count": 15,
   "metadata": {},
   "outputs": [],
   "source": [
    "class RunningAverageMeter(object):\n",
    "    \"\"\"Computes and stores the average and current value\"\"\"\n",
    "\n",
    "    def __init__(self, momentum=0.99):\n",
    "        self.momentum = momentum\n",
    "        self.reset()\n",
    "\n",
    "    def reset(self):\n",
    "        self.val = None\n",
    "        self.avg = 0\n",
    "\n",
    "    def update(self, val):\n",
    "        if self.val is None:\n",
    "            self.avg = val\n",
    "        else:\n",
    "            self.avg = self.avg * self.momentum + val * (1 - self.momentum)\n",
    "        self.val = val\n"
   ]
  },
  {
   "cell_type": "code",
   "execution_count": 16,
   "metadata": {},
   "outputs": [],
   "source": [
    "func = ODEFunc()\n",
    "optimizer = optim.RMSprop(func.parameters(), lr=1e-3)\n",
    "end = time.time()\n",
    "time_meter = RunningAverageMeter(0.97)\n",
    "loss_meter = RunningAverageMeter(0.97)"
   ]
  },
  {
   "cell_type": "code",
   "execution_count": 20,
   "metadata": {},
   "outputs": [
    {
     "name": "stdout",
     "output_type": "stream",
     "text": [
      "=== training model ===\n",
      "Iter 0020 | Total Loss 0.462430\n",
      "Iter 0040 | Total Loss 0.161764\n",
      "Iter 0060 | Total Loss 0.163516\n",
      "Iter 0080 | Total Loss 0.211697\n",
      "Iter 0100 | Total Loss 0.203898\n",
      "Iter 0120 | Total Loss 0.456389\n",
      "Iter 0140 | Total Loss 0.717730\n",
      "Iter 0160 | Total Loss 0.410492\n",
      "Iter 0180 | Total Loss 0.161990\n",
      "Iter 0200 | Total Loss 0.134207\n",
      "Iter 0220 | Total Loss 0.589135\n",
      "Iter 0240 | Total Loss 0.486150\n",
      "Iter 0260 | Total Loss 0.293913\n",
      "Iter 0280 | Total Loss 0.578175\n",
      "Iter 0300 | Total Loss 0.127085\n",
      "Iter 0320 | Total Loss 0.262630\n",
      "Iter 0340 | Total Loss 0.168523\n",
      "Iter 0360 | Total Loss 0.076132\n",
      "Iter 0380 | Total Loss 0.628843\n",
      "Iter 0400 | Total Loss 0.138040\n",
      "Iter 0420 | Total Loss 0.235303\n",
      "Iter 0440 | Total Loss 0.473255\n",
      "Iter 0460 | Total Loss 0.444810\n",
      "Iter 0480 | Total Loss 0.237422\n",
      "Iter 0500 | Total Loss 0.230765\n",
      "Iter 0520 | Total Loss 0.080407\n",
      "Iter 0540 | Total Loss 0.718817\n",
      "Iter 0560 | Total Loss 0.547025\n",
      "Iter 0580 | Total Loss 0.367945\n",
      "Iter 0600 | Total Loss 0.690149\n",
      "Iter 0620 | Total Loss 0.168985\n",
      "Iter 0640 | Total Loss 0.309966\n",
      "Iter 0660 | Total Loss 0.103634\n",
      "Iter 0680 | Total Loss 0.286784\n",
      "Iter 0700 | Total Loss 0.382484\n",
      "Iter 0720 | Total Loss 0.656759\n",
      "Iter 0740 | Total Loss 0.096281\n",
      "Iter 0760 | Total Loss 0.156122\n",
      "Iter 0780 | Total Loss 0.590931\n",
      "Iter 0800 | Total Loss 0.371492\n",
      "Iter 0820 | Total Loss 0.482007\n",
      "Iter 0840 | Total Loss 0.300819\n",
      "Iter 0860 | Total Loss 0.429728\n",
      "Iter 0880 | Total Loss 0.172633\n",
      "Iter 0900 | Total Loss 0.264179\n",
      "Iter 0920 | Total Loss 0.544282\n",
      "Iter 0940 | Total Loss 0.471571\n",
      "Iter 0960 | Total Loss 0.255015\n",
      "Iter 0980 | Total Loss 0.581275\n",
      "Iter 1000 | Total Loss 0.164247\n",
      "Iter 1020 | Total Loss 0.660129\n",
      "Iter 1040 | Total Loss 0.230873\n",
      "Iter 1060 | Total Loss 0.288152\n",
      "Iter 1080 | Total Loss 0.144220\n",
      "Iter 1100 | Total Loss 0.448109\n",
      "Iter 1120 | Total Loss 0.173245\n",
      "Iter 1140 | Total Loss 0.650974\n",
      "Iter 1160 | Total Loss 0.734095\n",
      "Iter 1180 | Total Loss 0.419375\n",
      "Iter 1200 | Total Loss 0.278413\n",
      "Iter 1220 | Total Loss 0.115016\n",
      "Iter 1240 | Total Loss 0.486838\n",
      "Iter 1260 | Total Loss 0.603481\n",
      "Iter 1280 | Total Loss 0.242778\n",
      "Iter 1300 | Total Loss 0.191639\n",
      "Iter 1320 | Total Loss 0.260025\n",
      "Iter 1340 | Total Loss 0.380798\n",
      "Iter 1360 | Total Loss 0.719208\n",
      "Iter 1380 | Total Loss 0.601152\n",
      "Iter 1400 | Total Loss 0.496127\n",
      "Iter 1420 | Total Loss 0.088265\n",
      "Iter 1440 | Total Loss 0.722660\n",
      "Iter 1460 | Total Loss 0.349189\n",
      "Iter 1480 | Total Loss 0.047900\n",
      "Iter 1500 | Total Loss 0.193409\n",
      "Iter 1520 | Total Loss 0.068604\n",
      "Iter 1540 | Total Loss 0.343019\n",
      "Iter 1560 | Total Loss 0.185829\n",
      "Iter 1580 | Total Loss 0.502372\n",
      "Iter 1600 | Total Loss 0.181157\n",
      "Iter 1620 | Total Loss 0.667646\n",
      "Iter 1640 | Total Loss 0.183514\n",
      "Iter 1660 | Total Loss 0.425483\n",
      "Iter 1680 | Total Loss 0.702433\n",
      "Iter 1700 | Total Loss 0.407986\n",
      "Iter 1720 | Total Loss 0.735055\n",
      "Iter 1740 | Total Loss 0.064154\n",
      "Iter 1760 | Total Loss 0.150359\n",
      "Iter 1780 | Total Loss 0.223444\n",
      "Iter 1800 | Total Loss 0.221653\n",
      "Iter 1820 | Total Loss 0.293496\n",
      "Iter 1840 | Total Loss 0.129848\n",
      "Iter 1860 | Total Loss 0.751432\n",
      "Iter 1880 | Total Loss 0.135731\n",
      "Iter 1900 | Total Loss 0.080429\n",
      "Iter 1920 | Total Loss 0.049645\n",
      "Iter 1940 | Total Loss 0.535568\n",
      "Iter 1960 | Total Loss 0.573582\n",
      "Iter 1980 | Total Loss 0.463304\n",
      "Iter 2000 | Total Loss 0.344198\n"
     ]
    }
   ],
   "source": [
    "ii = 0\n",
    "print(\"=== training model ===\")\n",
    "losses = []\n",
    "iters = []\n",
    "for itr in range(1, niters + 1):\n",
    "    optimizer.zero_grad()\n",
    "    batch_y0, batch_t, batch_y = get_batch()\n",
    "    pred_y = odeint(func, batch_y0, batch_t)\n",
    "    loss = torch.mean(torch.abs(pred_y - batch_y))\n",
    "    loss.backward()\n",
    "    optimizer.step()\n",
    "\n",
    "    time_meter.update(time.time() - end)\n",
    "    loss_meter.update(loss.item())\n",
    "\n",
    "    if itr % test_freq == 0:\n",
    "        with torch.no_grad():\n",
    "            pred_y = odeint(func, true_y0, t)\n",
    "            loss = torch.mean(torch.abs(pred_y - true_y))\n",
    "            print('Iter {:04d} | Total Loss {:.6f}'.format(itr, loss.item()))\n",
    "            losses.append(loss)\n",
    "            iters.append(itr)\n",
    "            #visualize(true_y, pred_y, func, ii)\n",
    "            ii += 1\n",
    "\n",
    "    end = time.time()"
   ]
  },
  {
   "cell_type": "code",
   "execution_count": 21,
   "metadata": {},
   "outputs": [
    {
     "data": {
      "text/plain": [
       "[<matplotlib.lines.Line2D at 0x104d849e8>]"
      ]
     },
     "execution_count": 21,
     "metadata": {},
     "output_type": "execute_result"
    },
    {
     "data": {
      "image/png": "[encoded data removed]",
      "text/plain": [
       "<Figure size 432x288 with 1 Axes>"
      ]
     },
     "metadata": {
      "needs_background": "light"
     },
     "output_type": "display_data"
    }
   ],
   "source": [
    "plt.plot(iters,losses)"
   ]
  },
  {
   "cell_type": "code",
   "execution_count": null,
   "metadata": {},
   "outputs": [],
   "source": []
  }
 ],
 "metadata": {
  "kernelspec": {
   "display_name": "Python 3",
   "language": "python",
   "name": "python3"
  },
  "language_info": {
   "codemirror_mode": {
    "name": "ipython",
    "version": 3
   },
   "file_extension": ".py",
   "mimetype": "text/x-python",
   "name": "python",
   "nbconvert_exporter": "python",
   "pygments_lexer": "ipython3",
   "version": "3.7.2"
  }
 },
 "nbformat": 4,
 "nbformat_minor": 2
}
